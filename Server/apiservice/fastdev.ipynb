{
 "cells": [
  {
   "cell_type": "code",
   "execution_count": 83,
   "metadata": {},
   "outputs": [],
   "source": [
    "import psycopg2"
   ]
  },
  {
   "cell_type": "code",
   "execution_count": 84,
   "metadata": {},
   "outputs": [],
   "source": [
    "try:\n",
    "    conn = psycopg2.connect(\"dbname='postgres' user='devuser' host='localhost' password='devuser'\")\n",
    "except:\n",
    "    print(\"I am unable to connect to the database\")"
   ]
  },
  {
   "cell_type": "code",
   "execution_count": 85,
   "metadata": {},
   "outputs": [],
   "source": [
    "cur = conn.cursor()"
   ]
  },
  {
   "cell_type": "code",
   "execution_count": 162,
   "metadata": {},
   "outputs": [],
   "source": [
    "cur.execute(\"ROLLBACK\")\n",
    "conn.commit()"
   ]
  },
  {
   "cell_type": "code",
   "execution_count": 151,
   "metadata": {},
   "outputs": [],
   "source": [
    "cur.execute(\"\"\"DROP TABLE modules, folders\"\"\")\n",
    "conn.commit()"
   ]
  },
  {
   "cell_type": "code",
   "execution_count": 154,
   "metadata": {},
   "outputs": [],
   "source": [
    "cur.execute(\"\"\"\n",
    "CREATE TABLE folders (\n",
    "    id SERIAL PRIMARY KEY,\n",
    "    name VARCHAR(255),\n",
    "    parent INT NULL REFERENCES folders(id))\n",
    "\"\"\")\n",
    "\n",
    "conn.commit()"
   ]
  },
  {
   "cell_type": "code",
   "execution_count": 155,
   "metadata": {},
   "outputs": [],
   "source": [
    "cur.execute(\"\"\"\n",
    "CREATE TABLE modules (\n",
    "    id SERIAL PRIMARY KEY,\n",
    "    name VARCHAR(255),\n",
    "    parent INT REFERENCES folders(id))\n",
    "\"\"\")\n",
    "\n",
    "conn.commit()"
   ]
  },
  {
   "cell_type": "code",
   "execution_count": 163,
   "metadata": {},
   "outputs": [],
   "source": [
    "cur.execute(\"\"\"\n",
    "INSERT INTO folders (id, name)\n",
    "VALUES (DEFAULT, '{folder_name}')\n",
    "RETURNING id\n",
    "\"\"\".format(folder_name=\"Folder1\"))\n",
    "\n",
    "folder_1_id = cur.fetchone()[0]\n",
    "\n",
    "conn.commit()\n",
    "\n",
    "cur.execute(\"\"\"\n",
    "INSERT INTO folders (id, name)\n",
    "VALUES (DEFAULT, '{folder_name}')\n",
    "RETURNING id\n",
    "\"\"\".format(folder_name=\"Folder2\"))\n",
    "\n",
    "folder_2_id = cur.fetchone()[0]\n",
    "\n",
    "conn.commit()\n",
    "\n",
    "cur.execute(\"\"\"\n",
    "INSERT INTO folders (id, name, parent)\n",
    "VALUES (DEFAULT, '{folder_name}', {parent_folder_id})\n",
    "RETURNING id\n",
    "\"\"\".format(folder_name=\"Folder11\", parent_folder_id=folder_1_id))\n",
    "\n",
    "folder_1_1_id = cur.fetchone()[0]\n",
    "\n",
    "conn.commit()\n",
    "\n",
    "cur.execute(\"\"\"\n",
    "INSERT INTO folders (id, name, parent)\n",
    "VALUES (DEFAULT, '{folder_name}', {parent_folder_id})\n",
    "\"\"\".format(folder_name=\"Folder111\", parent_folder_id=folder_1_1_id))\n",
    "\n",
    "conn.commit()\n",
    "\n",
    "cur.execute(\"\"\"\n",
    "INSERT INTO folders (id, name, parent)\n",
    "VALUES (DEFAULT, '{folder_name}', {parent_folder_id})\n",
    "RETURNING id\n",
    "\"\"\".format(folder_name=\"Folder21\", parent_folder_id=folder_2_id))\n",
    "\n",
    "conn.commit()\n",
    "\n",
    "cur.execute(\"\"\"\n",
    "INSERT INTO folders (id, name, parent)\n",
    "VALUES (DEFAULT, '{folder_name}', {parent_folder_id})\n",
    "RETURNING id\n",
    "\"\"\".format(folder_name=\"Folder22\", parent_folder_id=folder_2_id))\n",
    "\n",
    "conn.commit()"
   ]
  },
  {
   "cell_type": "code",
   "execution_count": 133,
   "metadata": {},
   "outputs": [],
   "source": [
    "def print_with_indent(text, indent=0):\n",
    "    for current_indent in range(0, indent):\n",
    "        print(\"    \", end=\" \")\n",
    "    \n",
    "    print(text)"
   ]
  },
  {
   "cell_type": "code",
   "execution_count": 164,
   "metadata": {},
   "outputs": [
    {
     "name": "stdout",
     "output_type": "stream",
     "text": [
      "Folder1\n",
      "\n",
      "     Folder11\n",
      "\n",
      "          Folder111\n",
      "\n",
      "Folder2\n",
      "\n",
      "     Folder21\n",
      "\n",
      "     Folder22\n",
      "\n"
     ]
    }
   ],
   "source": [
    "def list(parent=None, indent=0):\n",
    "    try:\n",
    "        if(parent is None):\n",
    "            cur.execute(\"\"\"\n",
    "            SELECT * FROM folders WHERE parent IS NULL\n",
    "            \"\"\")\n",
    "        else:\n",
    "            cur.execute(\"\"\"\n",
    "            SELECT * FROM folders WHERE parent={query_parent}\n",
    "            \"\"\".format(query_parent=parent))\n",
    "    except:\n",
    "        print(\"I cannot execute\")\n",
    "\n",
    "    try:\n",
    "        rows = cur.fetchall()\n",
    "\n",
    "        for row in rows:\n",
    "            id = row[0]\n",
    "            name = row[1]\n",
    "            parent = row[2]\n",
    "\n",
    "            print_with_indent(name + \"\\n\", indent)\n",
    "\n",
    "            list(id, indent + 1)\n",
    "    except:\n",
    "        pass\n",
    "\n",
    "list()"
   ]
  },
  {
   "cell_type": "code",
   "execution_count": null,
   "metadata": {},
   "outputs": [],
   "source": []
  }
 ],
 "metadata": {
  "kernelspec": {
   "display_name": "Python 3.8.13 ('base')",
   "language": "python",
   "name": "python3"
  },
  "language_info": {
   "codemirror_mode": {
    "name": "ipython",
    "version": 3
   },
   "file_extension": ".py",
   "mimetype": "text/x-python",
   "name": "python",
   "nbconvert_exporter": "python",
   "pygments_lexer": "ipython3",
   "version": "3.8.13"
  },
  "orig_nbformat": 4,
  "vscode": {
   "interpreter": {
    "hash": "38cca0c38332a56087b24af0bc80247f4fced29cb4f7f437d91dc159adec9c4e"
   }
  }
 },
 "nbformat": 4,
 "nbformat_minor": 2
}
