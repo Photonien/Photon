{
 "cells": [
  {
   "cell_type": "code",
   "execution_count": 207,
   "metadata": {},
   "outputs": [],
   "source": [
    "import psycopg2"
   ]
  },
  {
   "cell_type": "code",
   "execution_count": 208,
   "metadata": {},
   "outputs": [],
   "source": [
    "try:\n",
    "    conn = psycopg2.connect(\"dbname='postgres' user='devuser' host='localhost' password='devuser'\")\n",
    "except:\n",
    "    print(\"I am unable to connect to the database\")"
   ]
  },
  {
   "cell_type": "code",
   "execution_count": 209,
   "metadata": {},
   "outputs": [],
   "source": [
    "cur = conn.cursor()"
   ]
  },
  {
   "cell_type": "code",
   "execution_count": 220,
   "metadata": {},
   "outputs": [],
   "source": [
    "cur.execute(\"ROLLBACK\")\n",
    "conn.commit()"
   ]
  },
  {
   "cell_type": "code",
   "execution_count": 211,
   "metadata": {},
   "outputs": [],
   "source": [
    "cur.execute(\"\"\"\n",
    "DROP SCHEMA public CASCADE;\n",
    "CREATE SCHEMA public;\n",
    "\"\"\")\n",
    "conn.commit()"
   ]
  },
  {
   "cell_type": "code",
   "execution_count": 212,
   "metadata": {},
   "outputs": [],
   "source": [
    "cur.execute(\"\"\"\n",
    "CREATE TABLE folders (\n",
    "    id SERIAL PRIMARY KEY,\n",
    "    name VARCHAR(255),\n",
    "    parent INT NULL REFERENCES folders(id))\n",
    "\"\"\")\n",
    "\n",
    "conn.commit()"
   ]
  },
  {
   "cell_type": "code",
   "execution_count": 213,
   "metadata": {},
   "outputs": [],
   "source": [
    "cur.execute(\"\"\"\n",
    "CREATE TABLE modules (\n",
    "    id SERIAL PRIMARY KEY,\n",
    "    name VARCHAR(255),\n",
    "    parent INT REFERENCES folders(id))\n",
    "\"\"\")\n",
    "\n",
    "conn.commit()"
   ]
  },
  {
   "cell_type": "code",
   "execution_count": 214,
   "metadata": {},
   "outputs": [],
   "source": [
    "cur.execute(\"\"\"\n",
    "INSERT INTO folders (id, name)\n",
    "VALUES (DEFAULT, '{folder_name}')\n",
    "RETURNING id\n",
    "\"\"\".format(folder_name=\"Folder1\"))\n",
    "\n",
    "folder_1_id = cur.fetchone()[0]\n",
    "\n",
    "conn.commit()\n",
    "\n",
    "cur.execute(\"\"\"\n",
    "INSERT INTO folders (id, name)\n",
    "VALUES (DEFAULT, '{folder_name}')\n",
    "RETURNING id\n",
    "\"\"\".format(folder_name=\"Folder2\"))\n",
    "\n",
    "folder_2_id = cur.fetchone()[0]\n",
    "\n",
    "conn.commit()\n",
    "\n",
    "cur.execute(\"\"\"\n",
    "INSERT INTO folders (id, name, parent)\n",
    "VALUES (DEFAULT, '{folder_name}', {parent_folder_id})\n",
    "RETURNING id\n",
    "\"\"\".format(folder_name=\"Folder11\", parent_folder_id=folder_1_id))\n",
    "\n",
    "folder_1_1_id = cur.fetchone()[0]\n",
    "\n",
    "conn.commit()\n",
    "\n",
    "cur.execute(\"\"\"\n",
    "INSERT INTO folders (id, name, parent)\n",
    "VALUES (DEFAULT, '{folder_name}', {parent_folder_id})\n",
    "\"\"\".format(folder_name=\"Folder111\", parent_folder_id=folder_1_1_id))\n",
    "\n",
    "conn.commit()\n",
    "\n",
    "cur.execute(\"\"\"\n",
    "INSERT INTO folders (id, name, parent)\n",
    "VALUES (DEFAULT, '{folder_name}', {parent_folder_id})\n",
    "RETURNING id\n",
    "\"\"\".format(folder_name=\"Folder21\", parent_folder_id=folder_2_id))\n",
    "\n",
    "conn.commit()\n",
    "\n",
    "cur.execute(\"\"\"\n",
    "INSERT INTO folders (id, name, parent)\n",
    "VALUES (DEFAULT, '{folder_name}', {parent_folder_id})\n",
    "RETURNING id\n",
    "\"\"\".format(folder_name=\"Folder22\", parent_folder_id=folder_2_id))\n",
    "\n",
    "conn.commit()"
   ]
  },
  {
   "cell_type": "code",
   "execution_count": 215,
   "metadata": {},
   "outputs": [],
   "source": [
    "new_module_name = \"Module3\"\n",
    "new_module_parent = folder_2_id\n",
    "\n",
    "cur.execute(\"\"\"\n",
    "INSERT INTO modules (id, name, parent)\n",
    "VALUES (DEFAULT, '{module_name}', {parent_folder_id})\n",
    "RETURNING id\n",
    "\"\"\".format(module_name=new_module_name, parent_folder_id=new_module_parent))\n",
    "\n",
    "new_module_id = cur.fetchone()[0]\n",
    "\n",
    "new_module_table_name = \"module_\" + str(new_module_id) + \"_\" + new_module_name\n",
    "\n",
    "cur.execute(\"\"\"\n",
    "CREATE TABLE {module_table_name} (\n",
    "    id SERIAL PRIMARY KEY,\n",
    "    default_column TEXT)\n",
    "\"\"\".format(module_table_name=new_module_table_name))\n",
    "\n",
    "conn.commit()"
   ]
  },
  {
   "cell_type": "code",
   "execution_count": 216,
   "metadata": {},
   "outputs": [],
   "source": [
    "def print_with_indent(text, indent=0):\n",
    "    for current_indent in range(0, indent):\n",
    "        print(\"    \", end=\" \")\n",
    "    \n",
    "    print(text)"
   ]
  },
  {
   "cell_type": "code",
   "execution_count": 217,
   "metadata": {},
   "outputs": [
    {
     "name": "stdout",
     "output_type": "stream",
     "text": [
      "Folder1\n",
      "\n",
      "     Folder11\n",
      "\n",
      "          Folder111\n",
      "\n",
      "Folder2\n",
      "\n",
      "     Folder21\n",
      "\n",
      "     Folder22\n",
      "\n",
      "     Module3\n",
      "\n"
     ]
    }
   ],
   "source": [
    "def list(parent=None, indent=0):\n",
    "    folders_rows = []\n",
    "    modules_rows = []\n",
    "\n",
    "    try:\n",
    "        if(parent is None):\n",
    "            cur.execute(\"\"\"\n",
    "            SELECT * FROM folders WHERE parent IS NULL\n",
    "            \"\"\")\n",
    "\n",
    "            folders_rows = cur.fetchall()\n",
    "        else:\n",
    "            cur.execute(\"\"\"\n",
    "            SELECT * FROM folders WHERE parent={query_parent}\n",
    "            \"\"\".format(query_parent=parent))\n",
    "\n",
    "            folders_rows = cur.fetchall()\n",
    "\n",
    "            cur.execute(\"\"\"\n",
    "            SELECT * FROM modules WHERE parent={query_parent}\n",
    "            \"\"\".format(query_parent=parent))\n",
    "\n",
    "            modules_rows = cur.fetchall()\n",
    "    except:\n",
    "        print(\"I cannot execute\")\n",
    "\n",
    "    for folder in folders_rows:\n",
    "        folder_id = folder[0]\n",
    "        folder_name = folder[1]\n",
    "        folder_parent = folder[2]\n",
    "\n",
    "        print_with_indent(folder_name + \"\\n\", indent)\n",
    "\n",
    "        list(folder_id, indent + 1)\n",
    "\n",
    "    for module in modules_rows:\n",
    "        module_id = module[0]\n",
    "        module_name = module[1]\n",
    "        module_parent = module[2]\n",
    "\n",
    "        print_with_indent(module_name + \"\\n\", indent)    \n",
    "\n",
    "list()"
   ]
  },
  {
   "cell_type": "code",
   "execution_count": 221,
   "metadata": {},
   "outputs": [],
   "source": [
    "new_column_name=\"New Column\"\n",
    "\n",
    "cur.execute(\"\"\"\n",
    "ALTER TABLE {module_table_name}\n",
    "ADD \"{column_name}\" TEXT;\n",
    "\"\"\".format(\n",
    "    module_table_name=new_module_table_name,\n",
    "    column_name=new_column_name))\n",
    "\n",
    "conn.commit()"
   ]
  },
  {
   "cell_type": "code",
   "execution_count": null,
   "metadata": {},
   "outputs": [],
   "source": []
  }
 ],
 "metadata": {
  "kernelspec": {
   "display_name": "Python 3.8.13 ('base')",
   "language": "python",
   "name": "python3"
  },
  "language_info": {
   "codemirror_mode": {
    "name": "ipython",
    "version": 3
   },
   "file_extension": ".py",
   "mimetype": "text/x-python",
   "name": "python",
   "nbconvert_exporter": "python",
   "pygments_lexer": "ipython3",
   "version": "3.8.13"
  },
  "orig_nbformat": 4,
  "vscode": {
   "interpreter": {
    "hash": "38cca0c38332a56087b24af0bc80247f4fced29cb4f7f437d91dc159adec9c4e"
   }
  }
 },
 "nbformat": 4,
 "nbformat_minor": 2
}
